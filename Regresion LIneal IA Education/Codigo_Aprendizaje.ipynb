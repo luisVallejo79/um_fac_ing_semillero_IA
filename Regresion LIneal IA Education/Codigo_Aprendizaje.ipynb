{
  "nbformat": 4,
  "nbformat_minor": 0,
  "metadata": {
    "colab": {
      "name": "Codigo_Aprendizaje.ipynb",
      "provenance": []
    },
    "kernelspec": {
      "name": "python3",
      "display_name": "Python 3"
    }
  },
  "cells": [
    {
      "cell_type": "markdown",
      "metadata": {
        "id": "3R7ex_boDOdf"
      },
      "source": [
        "Importamos la libreria Scikit-learn, es una libreria gratuita que le permite al algoritmo aprender de manera autonoma"
      ]
    },
    {
      "cell_type": "code",
      "metadata": {
        "colab": {
          "base_uri": "https://localhost:8080/",
          "height": 298
        },
        "id": "25AVk6hpC8PZ",
        "outputId": "61821292-dbaa-4034-e3a0-fe06372f5a0f"
      },
      "source": [
        "import numpy as np \r\n",
        "import matplotlib.pyplot as plt \r\n",
        "\r\n",
        "from sklearn.linear_model import LinearRegression \r\n",
        "def f(x):\r\n",
        "    np.random.seed(42) \r\n",
        "    y = 0.1*x + 1.25 + 0.2*np.random.randn(x.shape[0])\r\n",
        "    return y\r\n",
        "x = np.arange(0, 100, 0.5) \r\n",
        "y = f(x)\r\n",
        "plt.scatter(x,y,label='data', color='blue')\r\n",
        "plt.title('Datos Ingresados');\r\n",
        "\r\n",
        "\r\n",
        "from sklearn.linear_model import LinearRegression \r\n",
        "regresion_lineal = LinearRegression() \r\n",
        "\r\n",
        "regresion_lineal.fit(x.reshape(-1,1), y) \r\n",
        "\r\n",
        "print('w = ' + str(regresion_lineal.coef_) + ', b = ' + str(regresion_lineal.intercept_))\r\n"
      ],
      "execution_count": 6,
      "outputs": [
        {
          "output_type": "stream",
          "text": [
            "w = [0.10045831], b = 1.2190450451178716\n"
          ],
          "name": "stdout"
        },
        {
          "output_type": "display_data",
          "data": {
            "image/png": "[encoded data removed]",
            "text/plain": [
              "<Figure size 432x288 with 1 Axes>"
            ]
          },
          "metadata": {
            "tags": [],
            "needs_background": "light"
          }
        }
      ]
    },
    {
      "cell_type": "code",
      "metadata": {
        "colab": {
          "base_uri": "https://localhost:8080/",
          "height": 298
        },
        "id": "PBu1AyzZG6eX",
        "outputId": "da6b5bc8-2c4f-4bbb-9e3e-88035d474de7"
      },
      "source": [
        "import numpy as np \r\n",
        "import matplotlib.pyplot as plt \r\n",
        "\r\n",
        "from sklearn.linear_model import LinearRegression \r\n",
        "def f(x):\r\n",
        "    np.random.seed(42) \r\n",
        "    y = 0.1*x + 1.25 + 0.2*np.random.randn(x.shape[0])\r\n",
        "    return y\r\n",
        "x = np.arange(0, 20, 0.5) \r\n",
        "y = f(x)\r\n",
        "plt.scatter(x,y,label='data', color='green')\r\n",
        "plt.title('Datos Ingresados');\r\n",
        "\r\n",
        "\r\n",
        "from sklearn.linear_model import LinearRegression \r\n",
        "regresion_lineal = LinearRegression() \r\n",
        "\r\n",
        "regresion_lineal.fit(x.reshape(-1,1), y) \r\n",
        "\r\n",
        "print('w = ' + str(regresion_lineal.coef_) + ', b = ' + str(regresion_lineal.intercept_))"
      ],
      "execution_count": 8,
      "outputs": [
        {
          "output_type": "stream",
          "text": [
            "w = [0.09183522], b = 1.2858792525736682\n"
          ],
          "name": "stdout"
        },
        {
          "output_type": "display_data",
          "data": {
            "image/png": "[encoded data removed]",
            "text/plain": [
              "<Figure size 432x288 with 1 Axes>"
            ]
          },
          "metadata": {
            "tags": [],
            "needs_background": "light"
          }
        }
      ]
    }
  ]
}